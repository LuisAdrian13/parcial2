{
  "nbformat": 4,
  "nbformat_minor": 0,
  "metadata": {
    "colab": {
      "private_outputs": true,
      "provenance": [],
      "include_colab_link": true
    },
    "kernelspec": {
      "name": "python3",
      "display_name": "Python 3"
    },
    "language_info": {
      "name": "python"
    }
  },
  "cells": [
    {
      "cell_type": "markdown",
      "metadata": {
        "id": "view-in-github",
        "colab_type": "text"
      },
      "source": [
        "<a href=\"https://colab.research.google.com/github/LuisAdrian13/parcial2/blob/main/punto_3_parcial.ipynb\" target=\"_parent\"><img src=\"https://colab.research.google.com/assets/colab-badge.svg\" alt=\"Open In Colab\"/></a>"
      ]
    },
    {
      "cell_type": "code",
      "execution_count": null,
      "metadata": {
        "id": "3lKHA47I1-UE"
      },
      "outputs": [],
      "source": [
        "#data downloaded for google drive\n",
        "FILEID = \"1IC11LrPCZIo_Am5eXP2p2tDAlrGTlPjn\"\n",
        "!wget --load-cookies /tmp/cookies.txt \"https://docs.google.com/uc?export=download&confirm=$(wget --quiet --save-cookies /tmp/cookies.txt --keep-session-cookies --no-check-certificate 'https://docs.google.com/uc?export=download&id='$FILEID -O- | sed -rn 's/.*confirm=([0-9A-Za-z_]+).*/\\1\\n/p')&id=\"$FILEID -O datos.zip && rm -rf /tmp/cookies.txt\n",
        "!unzip -o datos.zip\n",
        "!dir"
      ]
    },
    {
      "cell_type": "code",
      "source": [
        "#librerias\n",
        "import scipy.io as sio\n",
        "from sklearn.decomposition import PCA\n",
        "from sklearn.manifold import TSNE\n",
        "from sklearn.preprocessing import MinMaxScaler, StandardScaler\n",
        "import numpy as np\n",
        "import matplotlib.pyplot as plt\n",
        "from matplotlib.ticker import FormatStrFormatter\n",
        "import warnings\n",
        "from sklearn.metrics import pairwise_distances\n",
        "import matplotlib\n",
        "from sklearn.model_selection import train_test_split\n",
        "\n",
        "warnings.filterwarnings('ignore')\n",
        "\n",
        "#cargar datos\n",
        "path_ = 'CaractCE.mat'#Case Western Database\n",
        "dicX = sio.loadmat(path_)"
      ],
      "metadata": {
        "id": "FeQgT1n13EZI"
      },
      "execution_count": null,
      "outputs": []
    },
    {
      "cell_type": "code",
      "source": [
        "Xt = dicX['F'] #datos en el tiempo\n",
        "Fs = 12000 #frecuencia de muestreo\n",
        "Tl = Xt.shape[1]/Fs #tamaño del segmento\n",
        "print('Xt shape:',Xt.shape)\n",
        "print('tiempo [s]', Tl)\n",
        "\n",
        "Y = dicX['E']\n",
        "Ytrue = Y[:,2] #clases fallos en los rodamientos\n",
        "\n",
        "labels_ = ['NOR','IR1_0.007´´','IR1_0.014´´','IR1_0.021´´',\n",
        "           'IR2_0.007´´','IR2_0.014´´','IR2_0.021´´',\n",
        "           'BE_0.007´´','BE_0.014´´','BE_0.021´´'\n",
        "           ] #nombres de las clases"
      ],
      "metadata": {
        "id": "1yN9Ox193IbR"
      },
      "execution_count": null,
      "outputs": []
    },
    {
      "cell_type": "code",
      "source": [
        "print(Ytrue.shape) #etique membresia de los datos 10 posibles valores\n",
        "print(np.unique(Ytrue))"
      ],
      "metadata": {
        "id": "HbuSRvEN3K0-"
      },
      "execution_count": null,
      "outputs": []
    },
    {
      "cell_type": "code",
      "source": [
        "#partir datos para train y test\n",
        "Xtrain, Xtest, Ytrain, _ = train_test_split(Xt, Ytrue, test_size=0.3)\n",
        "\n",
        "print(f\"Xtrain shape {Xtrain.shape}, Ytrain shape {Ytrain.shape }Xtest shape {Xtest.shape} \")"
      ],
      "metadata": {
        "id": "x3TqREMU3LHz"
      },
      "execution_count": null,
      "outputs": []
    },
    {
      "cell_type": "code",
      "source": [
        "#calcular espectro de Fourier Xtrain\n",
        "vf = np.fft.rfftfreq(Xtrain.shape[1],1/Fs) #freq vector\n",
        "Xw = (abs(np.fft.rfft(Xtrain))) # FFT"
      ],
      "metadata": {
        "id": "r0VZN69T3auJ"
      },
      "execution_count": null,
      "outputs": []
    },
    {
      "cell_type": "code",
      "source": [
        "# Crear una lista para almacenar los promedios de cada clase\n",
        "promedios_tiempo = []\n",
        "\n",
        "# Calcular el promedio en el tiempo para cada clase\n",
        "for clase in np.unique(Ytrue):\n",
        "    promedio_clase = np.mean(Xtrain[Ytrain == clase], axis=0)\n",
        "    promedios_tiempo.append(promedio_clase)\n",
        "\n",
        "# Graficar el promedio en el tiempo de cada clase\n",
        "plt.figure(figsize=(12, 6))\n",
        "for i, promedio_clase in enumerate(promedios_tiempo):\n",
        "    plt.plot(promedio_clase, label=labels_[i])\n",
        "\n",
        "plt.title(\"Promedio en el tiempo de cada clase de fallo\")\n",
        "plt.xlabel(\"Muestras en el tiempo\")\n",
        "plt.ylabel(\"Amplitud\")\n",
        "plt.legend()\n",
        "plt.grid(True)\n",
        "plt.show()"
      ],
      "metadata": {
        "id": "kwpRqtSLNq6s"
      },
      "execution_count": null,
      "outputs": []
    },
    {
      "cell_type": "code",
      "source": [
        "# Calcular el promedio en la frecuencia para cada clase\n",
        "promedios_frecuencia = []\n",
        "\n",
        "for clase in np.unique(Ytrain):\n",
        "    espectros = Xw[Ytrain == clase]\n",
        "    promedio_espectro = np.mean(espectros, axis=0)\n",
        "    promedios_frecuencia.append(promedio_espectro)\n",
        "\n",
        "# Graficar el promedio en la frecuencia de cada clase\n",
        "plt.figure(figsize=(12, 6))\n",
        "for i, promedio_espectro in enumerate(promedios_frecuencia):\n",
        "    plt.plot(vf, promedio_espectro, label=labels_[i])\n",
        "\n",
        "plt.title(\"Promedio en la frecuencia de cada clase de fallo\")\n",
        "plt.xlabel(\"Frecuencia (Hz)\")\n",
        "plt.ylabel(\"Amplitud\")\n",
        "plt.legend()\n",
        "plt.grid(True)\n",
        "plt.show()\n"
      ],
      "metadata": {
        "id": "aL5imspeOH8y"
      },
      "execution_count": null,
      "outputs": []
    },
    {
      "cell_type": "code",
      "source": [
        "#graficar espectro para clases representativas\n",
        "sca_ = MinMaxScaler()\n",
        "Xw_ = sca_.fit_transform(Xw.T).T\n",
        "#red = TSNE(perplexity = 15,n_components=2,random_state=123,learning_rate='auto',init='pca')\n",
        "red = PCA(n_components=2)\n",
        "Z = red.fit_transform(Xw_)\n",
        "\n",
        "plt.scatter(Z[:,0],Z[:,1],c=Ytrain, label='Xtrain')\n",
        "plt.colorbar()\n",
        "plt.show()"
      ],
      "metadata": {
        "id": "fphITOjOYW2O"
      },
      "execution_count": null,
      "outputs": []
    },
    {
      "cell_type": "code",
      "source": [
        "\n",
        "# Calcular la media y la desviación estándar de Xw\n",
        "media = np.mean(Xw)\n",
        "desviacion_estandar = np.std(Xw)\n",
        "\n",
        "# Normalizar Xw\n",
        "Xw_normalizado = (Xw - media) / desviacion_estandar\n",
        "Xw_normalizado"
      ],
      "metadata": {
        "id": "LtM0m9H_ce0x"
      },
      "execution_count": null,
      "outputs": []
    },
    {
      "cell_type": "code",
      "source": [
        "#calcular espectro de Fourier de Xtest\n",
        "vx = np.fft.rfftfreq(Xtest.shape[1],1/Fs) #freq vector\n",
        "Xwtest = (abs(np.fft.rfft(Xtest))) # FFT\n",
        "Xwtest.shape"
      ],
      "metadata": {
        "id": "TelbBMkNcpxl"
      },
      "execution_count": null,
      "outputs": []
    },
    {
      "cell_type": "code",
      "source": [
        "\n",
        "# Calcular la media y la desviación estándar de Xwtest\n",
        "media1 = np.mean(Xwtest)\n",
        "desviacion_estandar1 = np.std(Xwtest)\n",
        "\n",
        "# Normalizar Xwtest\n",
        "Xw_normalizado1 = (Xwtest - media1) / desviacion_estandar1\n",
        "Xw_normalizado1"
      ],
      "metadata": {
        "id": "6_1zuCARctSz"
      },
      "execution_count": null,
      "outputs": []
    },
    {
      "cell_type": "code",
      "source": [
        "from scipy.spatial.distance import cdist\n",
        "import  numpy as np\n",
        "#se crea una lista vacia para agrgar los tipos de fallos de Xtest\n",
        "v=[]\n",
        "\n",
        "for o in range (len(Xtest)): #recorre toda la logitud de Xtest\n",
        "  TT= cdist(Xw_normalizado1,Xw_normalizado) #saca la distacia de Xw_normalizado1[i] con cada uno de los datos de Xw_normalizado\n",
        "  v.append(Ytrain[np.argmin(TT[o,])]) #Agrega los tipos de fallos a la lista v\n"
      ],
      "metadata": {
        "id": "OWkVCMDccvCa"
      },
      "execution_count": null,
      "outputs": []
    },
    {
      "cell_type": "code",
      "source": [
        "\n",
        "numero_de_fallo = np.unique(Ytrue)\n",
        "def tipo_de_fallo_y_numero(x,y):\n",
        "    diccionario = {} #diccionario a llenar\n",
        "\n",
        "    for i in range(len(x)):\n",
        "        diccionario[x[i]] = y[i] #llenamos el diccionario con una key x[i] y un value y[i]\n",
        "\n",
        "    return diccionario\n",
        "\n",
        "resultado = tipo_de_fallo_y_numero(labels_, numero_de_fallo)\n",
        "print(resultado)"
      ],
      "metadata": {
        "id": "R5HTPivMgS__"
      },
      "execution_count": null,
      "outputs": []
    },
    {
      "cell_type": "code",
      "source": [
        "def obtener_tipo_de_fallo_de_Xtest(diccionario, lista_valores_en_v):\n",
        "    Fallos_correspondientes = [] #lista a llenar\n",
        "#se llena la lista con los tipos de fallos en Xtest\n",
        "    for valor in lista_valores_en_v:\n",
        "        for key, value in diccionario.items():\n",
        "            if value == valor:\n",
        "                Fallos_correspondientes.append(key) #se agrega a la lista la key del diccionario si el value es igual al valor en la lista de v\n",
        "                break\n",
        "        else:\n",
        "            Fallos_correspondientes.append(None)\n",
        "\n",
        "    return Fallos_correspondientes\n",
        "\n",
        "\n",
        "resultados = obtener_tipo_de_fallo_de_Xtest(resultado, v)\n",
        "print(resultados)#se imprime los tipos de fallos en Xtest"
      ],
      "metadata": {
        "id": "zZkPP-bUgT-B"
      },
      "execution_count": null,
      "outputs": []
    }
  ]
}